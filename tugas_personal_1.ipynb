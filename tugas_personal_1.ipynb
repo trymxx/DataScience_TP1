{
 "cells": [
  {
   "cell_type": "code",
   "execution_count": 25,
   "metadata": {},
   "outputs": [],
   "source": [
    "import pandas as pd\n",
    "import numpy as np"
   ]
  },
  {
   "cell_type": "code",
   "execution_count": 26,
   "metadata": {},
   "outputs": [],
   "source": [
    "df=pd.read_csv('data_karyawan.csv')"
   ]
  },
  {
   "cell_type": "code",
   "execution_count": 27,
   "metadata": {},
   "outputs": [
    {
     "name": "stdout",
     "output_type": "stream",
     "text": [
      "   No. Jenis Kelamin  Umur Karyawan      Gaji       Transportasi       Jabatan\n",
      "0    1     Laki-Laki             20   8000000  Kendaraan pribadi       Officer\n",
      "1    2     Laki-Laki             35  14000000     Kendaraan umum  Asst.Manager\n",
      "2    3     Perempuan             26  10000000     Kendaraan umum    Supervisor\n",
      "3    4     Perempuan             27  12000000  Kendaraan pribadi  Asst.Manager\n",
      "4    5     Laki-Laki             21   9000000  Kendaraan pribadi       Officer\n",
      "5    6     Laki-Laki             22  11000000  Kendaraan pribadi    Supervisor\n",
      "6    7     Perempuan             32  15000000     Kendaraan umum       Manager\n",
      "7    8     Perempuan             26   8000000     Kendaraan umum       Officer\n",
      "8    9     Laki-Laki             25   9000000     Kendaraan umum       Officer\n",
      "9   10     Perempuan             20  10000000  Kendaraan pribadi    Supervisor\n"
     ]
    }
   ],
   "source": [
    "#Control Flow Jenis Jabatan\n",
    "def jabatan(df):\n",
    "    \n",
    "    if (df['Gaji'] >= 8000000 and df['Gaji'] <= 9000000 ):\n",
    "        return 'Officer'\n",
    "    elif (df['Gaji'] >= 10000000 and df['Gaji'] <= 11000000):\n",
    "        return 'Supervisor'\n",
    "    elif (df['Gaji'] >= 12000000 and df['Gaji'] <= 14000000):\n",
    "        return 'Asst.Manager'\n",
    "    elif (df['Gaji'] >= 15000000):\n",
    "        return 'Manager'\n",
    "    \n",
    "df['Jabatan'] = df.apply(jabatan, axis = 1)\n",
    "print(df)\n"
   ]
  },
  {
   "cell_type": "code",
   "execution_count": 28,
   "metadata": {},
   "outputs": [
    {
     "name": "stdout",
     "output_type": "stream",
     "text": [
      "No.                              1\n",
      "Jenis Kelamin            Laki-Laki\n",
      "Umur Karyawan                   20\n",
      "Gaji                       8000000\n",
      "Transportasi     Kendaraan pribadi\n",
      "Jabatan               Asst.Manager\n",
      "dtype: object\n"
     ]
    }
   ],
   "source": [
    "#Gaji Terkecil\n",
    "print(df.min()) \n"
   ]
  },
  {
   "cell_type": "code",
   "execution_count": 29,
   "metadata": {},
   "outputs": [
    {
     "name": "stdout",
     "output_type": "stream",
     "text": [
      "No.                          10\n",
      "Jenis Kelamin         Perempuan\n",
      "Umur Karyawan                35\n",
      "Gaji                   15000000\n",
      "Transportasi     Kendaraan umum\n",
      "Jabatan              Supervisor\n",
      "dtype: object\n"
     ]
    }
   ],
   "source": [
    "#Gaji Terbesar\n",
    "print(df.max()) "
   ]
  }
 ],
 "metadata": {
  "kernelspec": {
   "display_name": "bol_datascience_course",
   "language": "python",
   "name": "bol_datascience_course"
  },
  "language_info": {
   "codemirror_mode": {
    "name": "ipython",
    "version": 3
   },
   "file_extension": ".py",
   "mimetype": "text/x-python",
   "name": "python",
   "nbconvert_exporter": "python",
   "pygments_lexer": "ipython3",
   "version": "3.8.16"
  },
  "orig_nbformat": 4,
  "vscode": {
   "interpreter": {
    "hash": "6491bbd3c7861498ceca5f810ff495ca48eaaad8857aa8ae48a42dff31e5d8e0"
   }
  }
 },
 "nbformat": 4,
 "nbformat_minor": 2
}
